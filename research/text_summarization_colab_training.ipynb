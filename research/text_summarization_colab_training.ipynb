{
  "nbformat": 4,
  "nbformat_minor": 0,
  "metadata": {
    "colab": {
      "provenance": [],
      "gpuType": "T4"
    },
    "kernelspec": {
      "name": "python3",
      "display_name": "Python 3"
    },
    "language_info": {
      "name": "python"
    },
    "accelerator": "GPU",
    "widgets": {
      "application/vnd.jupyter.widget-state+json": {
        "f30e8a1f9bfc46afa45064f207ea17e3": {
          "model_module": "@jupyter-widgets/controls",
          "model_name": "HBoxModel",
          "model_module_version": "1.5.0",
          "state": {
            "_dom_classes": [],
            "_model_module": "@jupyter-widgets/controls",
            "_model_module_version": "1.5.0",
            "_model_name": "HBoxModel",
            "_view_count": null,
            "_view_module": "@jupyter-widgets/controls",
            "_view_module_version": "1.5.0",
            "_view_name": "HBoxView",
            "box_style": "",
            "children": [
              "IPY_MODEL_c5da28be21c0495693ec5b903be37f3e",
              "IPY_MODEL_c6ab96ce3050470688dcd7305720922c",
              "IPY_MODEL_d8286e5394e84ff19e95e6ff75aa70d0"
            ],
            "layout": "IPY_MODEL_d8b05530374a4df4a7aaa175f8f9c6ec"
          }
        },
        "c5da28be21c0495693ec5b903be37f3e": {
          "model_module": "@jupyter-widgets/controls",
          "model_name": "HTMLModel",
          "model_module_version": "1.5.0",
          "state": {
            "_dom_classes": [],
            "_model_module": "@jupyter-widgets/controls",
            "_model_module_version": "1.5.0",
            "_model_name": "HTMLModel",
            "_view_count": null,
            "_view_module": "@jupyter-widgets/controls",
            "_view_module_version": "1.5.0",
            "_view_name": "HTMLView",
            "description": "",
            "description_tooltip": null,
            "layout": "IPY_MODEL_2bea16d964eb48d4a01aeaf136a35416",
            "placeholder": "​",
            "style": "IPY_MODEL_8f61ea71623e4d3ea32c8a5239288f84",
            "value": "Downloading builder script: "
          }
        },
        "c6ab96ce3050470688dcd7305720922c": {
          "model_module": "@jupyter-widgets/controls",
          "model_name": "FloatProgressModel",
          "model_module_version": "1.5.0",
          "state": {
            "_dom_classes": [],
            "_model_module": "@jupyter-widgets/controls",
            "_model_module_version": "1.5.0",
            "_model_name": "FloatProgressModel",
            "_view_count": null,
            "_view_module": "@jupyter-widgets/controls",
            "_view_module_version": "1.5.0",
            "_view_name": "ProgressView",
            "bar_style": "success",
            "description": "",
            "description_tooltip": null,
            "layout": "IPY_MODEL_c75559208d4d4c5d9c9bef1e93187b01",
            "max": 2169,
            "min": 0,
            "orientation": "horizontal",
            "style": "IPY_MODEL_1342dc05509a45f7925b89b860db4c5e",
            "value": 2169
          }
        },
        "d8286e5394e84ff19e95e6ff75aa70d0": {
          "model_module": "@jupyter-widgets/controls",
          "model_name": "HTMLModel",
          "model_module_version": "1.5.0",
          "state": {
            "_dom_classes": [],
            "_model_module": "@jupyter-widgets/controls",
            "_model_module_version": "1.5.0",
            "_model_name": "HTMLModel",
            "_view_count": null,
            "_view_module": "@jupyter-widgets/controls",
            "_view_module_version": "1.5.0",
            "_view_name": "HTMLView",
            "description": "",
            "description_tooltip": null,
            "layout": "IPY_MODEL_60bd9742010147b290ac0e0489290f12",
            "placeholder": "​",
            "style": "IPY_MODEL_dfef3adcc3a04769baf1b2c340aa5ac9",
            "value": " 5.65k/? [00:00&lt;00:00, 145kB/s]"
          }
        },
        "d8b05530374a4df4a7aaa175f8f9c6ec": {
          "model_module": "@jupyter-widgets/base",
          "model_name": "LayoutModel",
          "model_module_version": "1.2.0",
          "state": {
            "_model_module": "@jupyter-widgets/base",
            "_model_module_version": "1.2.0",
            "_model_name": "LayoutModel",
            "_view_count": null,
            "_view_module": "@jupyter-widgets/base",
            "_view_module_version": "1.2.0",
            "_view_name": "LayoutView",
            "align_content": null,
            "align_items": null,
            "align_self": null,
            "border": null,
            "bottom": null,
            "display": null,
            "flex": null,
            "flex_flow": null,
            "grid_area": null,
            "grid_auto_columns": null,
            "grid_auto_flow": null,
            "grid_auto_rows": null,
            "grid_column": null,
            "grid_gap": null,
            "grid_row": null,
            "grid_template_areas": null,
            "grid_template_columns": null,
            "grid_template_rows": null,
            "height": null,
            "justify_content": null,
            "justify_items": null,
            "left": null,
            "margin": null,
            "max_height": null,
            "max_width": null,
            "min_height": null,
            "min_width": null,
            "object_fit": null,
            "object_position": null,
            "order": null,
            "overflow": null,
            "overflow_x": null,
            "overflow_y": null,
            "padding": null,
            "right": null,
            "top": null,
            "visibility": null,
            "width": null
          }
        },
        "2bea16d964eb48d4a01aeaf136a35416": {
          "model_module": "@jupyter-widgets/base",
          "model_name": "LayoutModel",
          "model_module_version": "1.2.0",
          "state": {
            "_model_module": "@jupyter-widgets/base",
            "_model_module_version": "1.2.0",
            "_model_name": "LayoutModel",
            "_view_count": null,
            "_view_module": "@jupyter-widgets/base",
            "_view_module_version": "1.2.0",
            "_view_name": "LayoutView",
            "align_content": null,
            "align_items": null,
            "align_self": null,
            "border": null,
            "bottom": null,
            "display": null,
            "flex": null,
            "flex_flow": null,
            "grid_area": null,
            "grid_auto_columns": null,
            "grid_auto_flow": null,
            "grid_auto_rows": null,
            "grid_column": null,
            "grid_gap": null,
            "grid_row": null,
            "grid_template_areas": null,
            "grid_template_columns": null,
            "grid_template_rows": null,
            "height": null,
            "justify_content": null,
            "justify_items": null,
            "left": null,
            "margin": null,
            "max_height": null,
            "max_width": null,
            "min_height": null,
            "min_width": null,
            "object_fit": null,
            "object_position": null,
            "order": null,
            "overflow": null,
            "overflow_x": null,
            "overflow_y": null,
            "padding": null,
            "right": null,
            "top": null,
            "visibility": null,
            "width": null
          }
        },
        "8f61ea71623e4d3ea32c8a5239288f84": {
          "model_module": "@jupyter-widgets/controls",
          "model_name": "DescriptionStyleModel",
          "model_module_version": "1.5.0",
          "state": {
            "_model_module": "@jupyter-widgets/controls",
            "_model_module_version": "1.5.0",
            "_model_name": "DescriptionStyleModel",
            "_view_count": null,
            "_view_module": "@jupyter-widgets/base",
            "_view_module_version": "1.2.0",
            "_view_name": "StyleView",
            "description_width": ""
          }
        },
        "c75559208d4d4c5d9c9bef1e93187b01": {
          "model_module": "@jupyter-widgets/base",
          "model_name": "LayoutModel",
          "model_module_version": "1.2.0",
          "state": {
            "_model_module": "@jupyter-widgets/base",
            "_model_module_version": "1.2.0",
            "_model_name": "LayoutModel",
            "_view_count": null,
            "_view_module": "@jupyter-widgets/base",
            "_view_module_version": "1.2.0",
            "_view_name": "LayoutView",
            "align_content": null,
            "align_items": null,
            "align_self": null,
            "border": null,
            "bottom": null,
            "display": null,
            "flex": null,
            "flex_flow": null,
            "grid_area": null,
            "grid_auto_columns": null,
            "grid_auto_flow": null,
            "grid_auto_rows": null,
            "grid_column": null,
            "grid_gap": null,
            "grid_row": null,
            "grid_template_areas": null,
            "grid_template_columns": null,
            "grid_template_rows": null,
            "height": null,
            "justify_content": null,
            "justify_items": null,
            "left": null,
            "margin": null,
            "max_height": null,
            "max_width": null,
            "min_height": null,
            "min_width": null,
            "object_fit": null,
            "object_position": null,
            "order": null,
            "overflow": null,
            "overflow_x": null,
            "overflow_y": null,
            "padding": null,
            "right": null,
            "top": null,
            "visibility": null,
            "width": null
          }
        },
        "1342dc05509a45f7925b89b860db4c5e": {
          "model_module": "@jupyter-widgets/controls",
          "model_name": "ProgressStyleModel",
          "model_module_version": "1.5.0",
          "state": {
            "_model_module": "@jupyter-widgets/controls",
            "_model_module_version": "1.5.0",
            "_model_name": "ProgressStyleModel",
            "_view_count": null,
            "_view_module": "@jupyter-widgets/base",
            "_view_module_version": "1.2.0",
            "_view_name": "StyleView",
            "bar_color": null,
            "description_width": ""
          }
        },
        "60bd9742010147b290ac0e0489290f12": {
          "model_module": "@jupyter-widgets/base",
          "model_name": "LayoutModel",
          "model_module_version": "1.2.0",
          "state": {
            "_model_module": "@jupyter-widgets/base",
            "_model_module_version": "1.2.0",
            "_model_name": "LayoutModel",
            "_view_count": null,
            "_view_module": "@jupyter-widgets/base",
            "_view_module_version": "1.2.0",
            "_view_name": "LayoutView",
            "align_content": null,
            "align_items": null,
            "align_self": null,
            "border": null,
            "bottom": null,
            "display": null,
            "flex": null,
            "flex_flow": null,
            "grid_area": null,
            "grid_auto_columns": null,
            "grid_auto_flow": null,
            "grid_auto_rows": null,
            "grid_column": null,
            "grid_gap": null,
            "grid_row": null,
            "grid_template_areas": null,
            "grid_template_columns": null,
            "grid_template_rows": null,
            "height": null,
            "justify_content": null,
            "justify_items": null,
            "left": null,
            "margin": null,
            "max_height": null,
            "max_width": null,
            "min_height": null,
            "min_width": null,
            "object_fit": null,
            "object_position": null,
            "order": null,
            "overflow": null,
            "overflow_x": null,
            "overflow_y": null,
            "padding": null,
            "right": null,
            "top": null,
            "visibility": null,
            "width": null
          }
        },
        "dfef3adcc3a04769baf1b2c340aa5ac9": {
          "model_module": "@jupyter-widgets/controls",
          "model_name": "DescriptionStyleModel",
          "model_module_version": "1.5.0",
          "state": {
            "_model_module": "@jupyter-widgets/controls",
            "_model_module_version": "1.5.0",
            "_model_name": "DescriptionStyleModel",
            "_view_count": null,
            "_view_module": "@jupyter-widgets/base",
            "_view_module_version": "1.2.0",
            "_view_name": "StyleView",
            "description_width": ""
          }
        }
      }
    }
  },
  "cells": [
    {
      "cell_type": "code",
      "execution_count": 1,
      "metadata": {
        "colab": {
          "base_uri": "https://localhost:8080/"
        },
        "id": "Tu7CieUZkl1v",
        "outputId": "e7faf998-e321-49da-97fe-ea24c1c79606"
      },
      "outputs": [
        {
          "output_type": "stream",
          "name": "stdout",
          "text": [
            "Mounted at /content/drive/\n"
          ]
        }
      ],
      "source": [
        "from google.colab import drive\n",
        "drive.mount(\"/content/drive/\", force_remount=True)\n",
        "google_drive_prefix = \"/content/drive/My Drive\""
      ]
    },
    {
      "cell_type": "code",
      "source": [
        "%pwd"
      ],
      "metadata": {
        "colab": {
          "base_uri": "https://localhost:8080/",
          "height": 35
        },
        "id": "OVUpLLmjksCO",
        "outputId": "76c6a7e5-b496-450a-c3f8-4ab60143e4b9"
      },
      "execution_count": 2,
      "outputs": [
        {
          "output_type": "execute_result",
          "data": {
            "text/plain": [
              "'/content'"
            ],
            "application/vnd.google.colaboratory.intrinsic+json": {
              "type": "string"
            }
          },
          "metadata": {},
          "execution_count": 2
        }
      ]
    },
    {
      "cell_type": "code",
      "source": [
        "import os\n",
        "os.chdir('drive/My Drive')"
      ],
      "metadata": {
        "id": "1p7sBGcXlFoE"
      },
      "execution_count": 3,
      "outputs": []
    },
    {
      "cell_type": "code",
      "source": [
        "%pwd"
      ],
      "metadata": {
        "colab": {
          "base_uri": "https://localhost:8080/",
          "height": 35
        },
        "id": "Jyy7dzCilPl0",
        "outputId": "dfb9e4ff-e91a-47c3-b9db-d6a0a49a4003"
      },
      "execution_count": 4,
      "outputs": [
        {
          "output_type": "execute_result",
          "data": {
            "text/plain": [
              "'/content/drive/My Drive'"
            ],
            "application/vnd.google.colaboratory.intrinsic+json": {
              "type": "string"
            }
          },
          "metadata": {},
          "execution_count": 4
        }
      ]
    },
    {
      "cell_type": "code",
      "source": [
        "!ls"
      ],
      "metadata": {
        "colab": {
          "base_uri": "https://localhost:8080/"
        },
        "id": "Ub0o_dzUlTZn",
        "outputId": "516846bb-39b9-440c-b53e-2419bbfea2d8"
      },
      "execution_count": 5,
      "outputs": [
        {
          "output_type": "stream",
          "name": "stdout",
          "text": [
            "'Colab Notebooks'   ITR-23   Text_Summarization  'Untitled Jam.gjam'\n"
          ]
        }
      ]
    },
    {
      "cell_type": "code",
      "source": [
        "!git clone https://github.com/OmkarBorhade98/Text_Summarization"
      ],
      "metadata": {
        "colab": {
          "base_uri": "https://localhost:8080/"
        },
        "id": "mkcQBxNllUcW",
        "outputId": "f22805c4-52f7-4512-fe5e-cef4335ac165"
      },
      "execution_count": null,
      "outputs": [
        {
          "output_type": "stream",
          "name": "stdout",
          "text": [
            "Cloning into 'Text_Summarization'...\n",
            "remote: Enumerating objects: 159, done.\u001b[K\n",
            "remote: Counting objects: 100% (159/159), done.\u001b[K\n",
            "remote: Compressing objects: 100% (92/92), done.\u001b[K\n",
            "remote: Total 159 (delta 66), reused 128 (delta 38), pack-reused 0\u001b[K\n",
            "Receiving objects: 100% (159/159), 39.46 KiB | 1.36 MiB/s, done.\n",
            "Resolving deltas: 100% (66/66), done.\n"
          ]
        }
      ]
    },
    {
      "cell_type": "code",
      "source": [
        "os.chdir('Text_Summarization')"
      ],
      "metadata": {
        "id": "BI0kTreelnY0"
      },
      "execution_count": 6,
      "outputs": []
    },
    {
      "cell_type": "code",
      "source": [
        "! pip install -e ."
      ],
      "metadata": {
        "colab": {
          "base_uri": "https://localhost:8080/"
        },
        "id": "0oGKR92al9ws",
        "outputId": "46474b32-049c-44a2-8366-946e7aea2051"
      },
      "execution_count": 7,
      "outputs": [
        {
          "output_type": "stream",
          "name": "stdout",
          "text": [
            "Obtaining file:///content/drive/MyDrive/Text_Summarization\n",
            "  Preparing metadata (setup.py) ... \u001b[?25l\u001b[?25hdone\n",
            "Installing collected packages: textSummarizer\n",
            "  Running setup.py develop for textSummarizer\n",
            "Successfully installed textSummarizer-0.0.0\n"
          ]
        }
      ]
    },
    {
      "cell_type": "code",
      "source": [
        "! pip install ensure"
      ],
      "metadata": {
        "colab": {
          "base_uri": "https://localhost:8080/"
        },
        "id": "Uo4Tdo0jmXus",
        "outputId": "d39a053e-9fcf-4814-8aa7-464b694488c7"
      },
      "execution_count": null,
      "outputs": [
        {
          "output_type": "stream",
          "name": "stdout",
          "text": [
            "Collecting ensure\n",
            "  Downloading ensure-1.0.4-py3-none-any.whl (15 kB)\n",
            "Requirement already satisfied: six>=1.11.0 in /usr/local/lib/python3.10/dist-packages (from ensure) (1.16.0)\n",
            "Installing collected packages: ensure\n",
            "Successfully installed ensure-1.0.4\n"
          ]
        }
      ]
    },
    {
      "cell_type": "code",
      "source": [
        "! pip install datasets[sentencepiece]"
      ],
      "metadata": {
        "colab": {
          "base_uri": "https://localhost:8080/"
        },
        "id": "OjorPrOimjfb",
        "outputId": "7497cfd6-2609-48b2-ea0c-1235c3f16558"
      },
      "execution_count": 8,
      "outputs": [
        {
          "output_type": "stream",
          "name": "stdout",
          "text": [
            "Collecting datasets[sentencepiece]\n",
            "  Downloading datasets-2.16.1-py3-none-any.whl (507 kB)\n",
            "\u001b[2K     \u001b[90m━━━━━━━━━━━━━━━━━━━━━━━━━━━━━━━━━━━━━━━━\u001b[0m \u001b[32m507.1/507.1 kB\u001b[0m \u001b[31m2.6 MB/s\u001b[0m eta \u001b[36m0:00:00\u001b[0m\n",
            "\u001b[?25h\u001b[33mWARNING: datasets 2.16.1 does not provide the extra 'sentencepiece'\u001b[0m\u001b[33m\n",
            "\u001b[0mRequirement already satisfied: filelock in /usr/local/lib/python3.10/dist-packages (from datasets[sentencepiece]) (3.13.1)\n",
            "Requirement already satisfied: numpy>=1.17 in /usr/local/lib/python3.10/dist-packages (from datasets[sentencepiece]) (1.23.5)\n",
            "Requirement already satisfied: pyarrow>=8.0.0 in /usr/local/lib/python3.10/dist-packages (from datasets[sentencepiece]) (10.0.1)\n",
            "Requirement already satisfied: pyarrow-hotfix in /usr/local/lib/python3.10/dist-packages (from datasets[sentencepiece]) (0.6)\n",
            "Collecting dill<0.3.8,>=0.3.0 (from datasets[sentencepiece])\n",
            "  Downloading dill-0.3.7-py3-none-any.whl (115 kB)\n",
            "\u001b[2K     \u001b[90m━━━━━━━━━━━━━━━━━━━━━━━━━━━━━━━━━━━━━━━━\u001b[0m \u001b[32m115.3/115.3 kB\u001b[0m \u001b[31m10.4 MB/s\u001b[0m eta \u001b[36m0:00:00\u001b[0m\n",
            "\u001b[?25hRequirement already satisfied: pandas in /usr/local/lib/python3.10/dist-packages (from datasets[sentencepiece]) (1.5.3)\n",
            "Requirement already satisfied: requests>=2.19.0 in /usr/local/lib/python3.10/dist-packages (from datasets[sentencepiece]) (2.31.0)\n",
            "Requirement already satisfied: tqdm>=4.62.1 in /usr/local/lib/python3.10/dist-packages (from datasets[sentencepiece]) (4.66.1)\n",
            "Requirement already satisfied: xxhash in /usr/local/lib/python3.10/dist-packages (from datasets[sentencepiece]) (3.4.1)\n",
            "Collecting multiprocess (from datasets[sentencepiece])\n",
            "  Downloading multiprocess-0.70.15-py310-none-any.whl (134 kB)\n",
            "\u001b[2K     \u001b[90m━━━━━━━━━━━━━━━━━━━━━━━━━━━━━━━━━━━━━━━━\u001b[0m \u001b[32m134.8/134.8 kB\u001b[0m \u001b[31m13.3 MB/s\u001b[0m eta \u001b[36m0:00:00\u001b[0m\n",
            "\u001b[?25hRequirement already satisfied: fsspec[http]<=2023.10.0,>=2023.1.0 in /usr/local/lib/python3.10/dist-packages (from datasets[sentencepiece]) (2023.6.0)\n",
            "Requirement already satisfied: aiohttp in /usr/local/lib/python3.10/dist-packages (from datasets[sentencepiece]) (3.9.1)\n",
            "Requirement already satisfied: huggingface-hub>=0.19.4 in /usr/local/lib/python3.10/dist-packages (from datasets[sentencepiece]) (0.20.2)\n",
            "Requirement already satisfied: packaging in /usr/local/lib/python3.10/dist-packages (from datasets[sentencepiece]) (23.2)\n",
            "Requirement already satisfied: pyyaml>=5.1 in /usr/local/lib/python3.10/dist-packages (from datasets[sentencepiece]) (6.0.1)\n",
            "Requirement already satisfied: attrs>=17.3.0 in /usr/local/lib/python3.10/dist-packages (from aiohttp->datasets[sentencepiece]) (23.2.0)\n",
            "Requirement already satisfied: multidict<7.0,>=4.5 in /usr/local/lib/python3.10/dist-packages (from aiohttp->datasets[sentencepiece]) (6.0.4)\n",
            "Requirement already satisfied: yarl<2.0,>=1.0 in /usr/local/lib/python3.10/dist-packages (from aiohttp->datasets[sentencepiece]) (1.9.4)\n",
            "Requirement already satisfied: frozenlist>=1.1.1 in /usr/local/lib/python3.10/dist-packages (from aiohttp->datasets[sentencepiece]) (1.4.1)\n",
            "Requirement already satisfied: aiosignal>=1.1.2 in /usr/local/lib/python3.10/dist-packages (from aiohttp->datasets[sentencepiece]) (1.3.1)\n",
            "Requirement already satisfied: async-timeout<5.0,>=4.0 in /usr/local/lib/python3.10/dist-packages (from aiohttp->datasets[sentencepiece]) (4.0.3)\n",
            "Requirement already satisfied: typing-extensions>=3.7.4.3 in /usr/local/lib/python3.10/dist-packages (from huggingface-hub>=0.19.4->datasets[sentencepiece]) (4.5.0)\n",
            "Requirement already satisfied: charset-normalizer<4,>=2 in /usr/local/lib/python3.10/dist-packages (from requests>=2.19.0->datasets[sentencepiece]) (3.3.2)\n",
            "Requirement already satisfied: idna<4,>=2.5 in /usr/local/lib/python3.10/dist-packages (from requests>=2.19.0->datasets[sentencepiece]) (3.6)\n",
            "Requirement already satisfied: urllib3<3,>=1.21.1 in /usr/local/lib/python3.10/dist-packages (from requests>=2.19.0->datasets[sentencepiece]) (2.0.7)\n",
            "Requirement already satisfied: certifi>=2017.4.17 in /usr/local/lib/python3.10/dist-packages (from requests>=2.19.0->datasets[sentencepiece]) (2023.11.17)\n",
            "Requirement already satisfied: python-dateutil>=2.8.1 in /usr/local/lib/python3.10/dist-packages (from pandas->datasets[sentencepiece]) (2.8.2)\n",
            "Requirement already satisfied: pytz>=2020.1 in /usr/local/lib/python3.10/dist-packages (from pandas->datasets[sentencepiece]) (2023.3.post1)\n",
            "Requirement already satisfied: six>=1.5 in /usr/local/lib/python3.10/dist-packages (from python-dateutil>=2.8.1->pandas->datasets[sentencepiece]) (1.16.0)\n",
            "Installing collected packages: dill, multiprocess, datasets\n",
            "Successfully installed datasets-2.16.1 dill-0.3.7 multiprocess-0.70.15\n"
          ]
        }
      ]
    },
    {
      "cell_type": "code",
      "source": [
        "! pip install sentencepiece"
      ],
      "metadata": {
        "colab": {
          "base_uri": "https://localhost:8080/"
        },
        "id": "0uTWIUAzmz82",
        "outputId": "d9462030-f851-42be-afcf-d9af1adcd2d3"
      },
      "execution_count": 9,
      "outputs": [
        {
          "output_type": "stream",
          "name": "stdout",
          "text": [
            "Collecting sentencepiece\n",
            "  Downloading sentencepiece-0.1.99-cp310-cp310-manylinux_2_17_x86_64.manylinux2014_x86_64.whl (1.3 MB)\n",
            "\u001b[2K     \u001b[90m━━━━━━━━━━━━━━━━━━━━━━━━━━━━━━━━━━━━━━━━\u001b[0m \u001b[32m1.3/1.3 MB\u001b[0m \u001b[31m11.0 MB/s\u001b[0m eta \u001b[36m0:00:00\u001b[0m\n",
            "\u001b[?25hInstalling collected packages: sentencepiece\n",
            "Successfully installed sentencepiece-0.1.99\n"
          ]
        }
      ]
    },
    {
      "cell_type": "code",
      "source": [
        "! pip install transformers[torch]"
      ],
      "metadata": {
        "colab": {
          "base_uri": "https://localhost:8080/"
        },
        "id": "GGg0tb2zrYEU",
        "outputId": "7b88c9d9-7ee5-4b6f-b1af-4dad7c41bd4d"
      },
      "execution_count": 10,
      "outputs": [
        {
          "output_type": "stream",
          "name": "stdout",
          "text": [
            "Requirement already satisfied: transformers[torch] in /usr/local/lib/python3.10/dist-packages (4.35.2)\n",
            "Requirement already satisfied: filelock in /usr/local/lib/python3.10/dist-packages (from transformers[torch]) (3.13.1)\n",
            "Requirement already satisfied: huggingface-hub<1.0,>=0.16.4 in /usr/local/lib/python3.10/dist-packages (from transformers[torch]) (0.20.2)\n",
            "Requirement already satisfied: numpy>=1.17 in /usr/local/lib/python3.10/dist-packages (from transformers[torch]) (1.23.5)\n",
            "Requirement already satisfied: packaging>=20.0 in /usr/local/lib/python3.10/dist-packages (from transformers[torch]) (23.2)\n",
            "Requirement already satisfied: pyyaml>=5.1 in /usr/local/lib/python3.10/dist-packages (from transformers[torch]) (6.0.1)\n",
            "Requirement already satisfied: regex!=2019.12.17 in /usr/local/lib/python3.10/dist-packages (from transformers[torch]) (2023.6.3)\n",
            "Requirement already satisfied: requests in /usr/local/lib/python3.10/dist-packages (from transformers[torch]) (2.31.0)\n",
            "Requirement already satisfied: tokenizers<0.19,>=0.14 in /usr/local/lib/python3.10/dist-packages (from transformers[torch]) (0.15.0)\n",
            "Requirement already satisfied: safetensors>=0.3.1 in /usr/local/lib/python3.10/dist-packages (from transformers[torch]) (0.4.1)\n",
            "Requirement already satisfied: tqdm>=4.27 in /usr/local/lib/python3.10/dist-packages (from transformers[torch]) (4.66.1)\n",
            "Requirement already satisfied: torch!=1.12.0,>=1.10 in /usr/local/lib/python3.10/dist-packages (from transformers[torch]) (2.1.0+cu121)\n",
            "Collecting accelerate>=0.20.3 (from transformers[torch])\n",
            "  Downloading accelerate-0.26.1-py3-none-any.whl (270 kB)\n",
            "\u001b[2K     \u001b[90m━━━━━━━━━━━━━━━━━━━━━━━━━━━━━━━━━━━━━━━━\u001b[0m \u001b[32m270.9/270.9 kB\u001b[0m \u001b[31m7.4 MB/s\u001b[0m eta \u001b[36m0:00:00\u001b[0m\n",
            "\u001b[?25hRequirement already satisfied: psutil in /usr/local/lib/python3.10/dist-packages (from accelerate>=0.20.3->transformers[torch]) (5.9.5)\n",
            "Requirement already satisfied: fsspec>=2023.5.0 in /usr/local/lib/python3.10/dist-packages (from huggingface-hub<1.0,>=0.16.4->transformers[torch]) (2023.6.0)\n",
            "Requirement already satisfied: typing-extensions>=3.7.4.3 in /usr/local/lib/python3.10/dist-packages (from huggingface-hub<1.0,>=0.16.4->transformers[torch]) (4.5.0)\n",
            "Requirement already satisfied: sympy in /usr/local/lib/python3.10/dist-packages (from torch!=1.12.0,>=1.10->transformers[torch]) (1.12)\n",
            "Requirement already satisfied: networkx in /usr/local/lib/python3.10/dist-packages (from torch!=1.12.0,>=1.10->transformers[torch]) (3.2.1)\n",
            "Requirement already satisfied: jinja2 in /usr/local/lib/python3.10/dist-packages (from torch!=1.12.0,>=1.10->transformers[torch]) (3.1.2)\n",
            "Requirement already satisfied: triton==2.1.0 in /usr/local/lib/python3.10/dist-packages (from torch!=1.12.0,>=1.10->transformers[torch]) (2.1.0)\n",
            "Requirement already satisfied: charset-normalizer<4,>=2 in /usr/local/lib/python3.10/dist-packages (from requests->transformers[torch]) (3.3.2)\n",
            "Requirement already satisfied: idna<4,>=2.5 in /usr/local/lib/python3.10/dist-packages (from requests->transformers[torch]) (3.6)\n",
            "Requirement already satisfied: urllib3<3,>=1.21.1 in /usr/local/lib/python3.10/dist-packages (from requests->transformers[torch]) (2.0.7)\n",
            "Requirement already satisfied: certifi>=2017.4.17 in /usr/local/lib/python3.10/dist-packages (from requests->transformers[torch]) (2023.11.17)\n",
            "Requirement already satisfied: MarkupSafe>=2.0 in /usr/local/lib/python3.10/dist-packages (from jinja2->torch!=1.12.0,>=1.10->transformers[torch]) (2.1.3)\n",
            "Requirement already satisfied: mpmath>=0.19 in /usr/local/lib/python3.10/dist-packages (from sympy->torch!=1.12.0,>=1.10->transformers[torch]) (1.3.0)\n",
            "Installing collected packages: accelerate\n",
            "Successfully installed accelerate-0.26.1\n"
          ]
        }
      ]
    },
    {
      "cell_type": "code",
      "source": [
        "! git pull"
      ],
      "metadata": {
        "colab": {
          "base_uri": "https://localhost:8080/"
        },
        "id": "sq1EMt9KpVlM",
        "outputId": "ff2b6c17-d124-4ab6-e6cd-35b46e92a830"
      },
      "execution_count": null,
      "outputs": [
        {
          "output_type": "stream",
          "name": "stdout",
          "text": [
            "remote: Enumerating objects: 15, done.\u001b[K\n",
            "remote: Counting objects:   6% (1/15)\u001b[K\rremote: Counting objects:  13% (2/15)\u001b[K\rremote: Counting objects:  20% (3/15)\u001b[K\rremote: Counting objects:  26% (4/15)\u001b[K\rremote: Counting objects:  33% (5/15)\u001b[K\rremote: Counting objects:  40% (6/15)\u001b[K\rremote: Counting objects:  46% (7/15)\u001b[K\rremote: Counting objects:  53% (8/15)\u001b[K\rremote: Counting objects:  60% (9/15)\u001b[K\rremote: Counting objects:  66% (10/15)\u001b[K\rremote: Counting objects:  73% (11/15)\u001b[K\rremote: Counting objects:  80% (12/15)\u001b[K\rremote: Counting objects:  86% (13/15)\u001b[K\rremote: Counting objects:  93% (14/15)\u001b[K\rremote: Counting objects: 100% (15/15)\u001b[K\rremote: Counting objects: 100% (15/15), done.\u001b[K\n",
            "remote: Compressing objects: 100% (1/1)\u001b[K\rremote: Compressing objects: 100% (1/1), done.\u001b[K\n",
            "remote: Total 8 (delta 6), reused 8 (delta 6), pack-reused 0\u001b[K\n",
            "Unpacking objects:  12% (1/8)\rUnpacking objects:  25% (2/8)\rUnpacking objects:  37% (3/8)\rUnpacking objects:  50% (4/8)\rUnpacking objects:  62% (5/8)\rUnpacking objects:  75% (6/8)\rUnpacking objects:  87% (7/8)\rUnpacking objects: 100% (8/8)\rUnpacking objects: 100% (8/8), 580 bytes | 6.00 KiB/s, done.\n",
            "From https://github.com/OmkarBorhade98/Text_Summarization\n",
            "   594a7db..ef53447  main       -> origin/main\n",
            "Updating 594a7db..ef53447\n",
            "Fast-forward\n",
            " research/04_model_trainer.ipynb                | 2 \u001b[32m+\u001b[m\u001b[31m-\u001b[m\n",
            " src/textSummarizer/components/model_trainer.py | 2 \u001b[32m+\u001b[m\u001b[31m-\u001b[m\n",
            " 2 files changed, 2 insertions(+), 2 deletions(-)\n"
          ]
        }
      ]
    },
    {
      "cell_type": "code",
      "source": [
        "! python main.py"
      ],
      "metadata": {
        "colab": {
          "base_uri": "https://localhost:8080/"
        },
        "id": "0OAgvjrZmG9t",
        "outputId": "ecdda64f-9db6-46ad-c687-b3b167838fd7"
      },
      "execution_count": null,
      "outputs": [
        {
          "output_type": "stream",
          "name": "stdout",
          "text": [
            "[2024-01-12 17:22:43,508 : INFO : utils : NumExpr defaulting to 2 threads.]\n",
            "[2024-01-12 17:22:43,774 : INFO : config : PyTorch version 2.1.0+cu121 available.]\n",
            "[2024-01-12 17:22:43,775 : INFO : config : TensorFlow version 2.15.0 available.]\n",
            "[2024-01-12 17:22:43,777 : INFO : config : JAX version 0.4.23 available.]\n",
            "2024-01-12 17:22:45.500766: E external/local_xla/xla/stream_executor/cuda/cuda_dnn.cc:9261] Unable to register cuDNN factory: Attempting to register factory for plugin cuDNN when one has already been registered\n",
            "2024-01-12 17:22:45.500827: E external/local_xla/xla/stream_executor/cuda/cuda_fft.cc:607] Unable to register cuFFT factory: Attempting to register factory for plugin cuFFT when one has already been registered\n",
            "2024-01-12 17:22:45.502873: E external/local_xla/xla/stream_executor/cuda/cuda_blas.cc:1515] Unable to register cuBLAS factory: Attempting to register factory for plugin cuBLAS when one has already been registered\n",
            "2024-01-12 17:22:47.262945: W tensorflow/compiler/tf2tensorrt/utils/py_utils.cc:38] TF-TRT Warning: Could not find TensorRT\n",
            "[2024-01-12 17:22:48,082 : INFO : main : >>>>>> stage Data Injestion started <<<<<<]\n",
            "[2024-01-12 17:22:48,089 : INFO : common : yaml file : config/config.yml loaded succefully]\n",
            "[2024-01-12 17:22:48,092 : INFO : common : yaml file : params.yml loaded succefully]\n",
            "[2024-01-12 17:22:48,093 : INFO : common : Created Director at: artifacts]\n",
            "[2024-01-12 17:22:48,093 : INFO : common : Created Director at: artifacts/data_ingestion]\n",
            "[2024-01-12 17:22:48,094 : INFO : data_injestion : File already exists of size: ~ 7718 KB]\n",
            "[2024-01-12 17:22:48,482 : INFO : main : >>>>>> stage Data Injestion completed <<<<<<\n",
            "\n",
            "x==========x]\n",
            "[2024-01-12 17:22:48,482 : INFO : main : >>>>>> stage Data Validation started <<<<<<]\n",
            "[2024-01-12 17:22:48,487 : INFO : common : yaml file : config/config.yml loaded succefully]\n",
            "[2024-01-12 17:22:48,490 : INFO : common : yaml file : params.yml loaded succefully]\n",
            "[2024-01-12 17:22:48,491 : INFO : common : Created Director at: artifacts]\n",
            "[2024-01-12 17:22:48,491 : INFO : common : Created Director at: artifacts/data_validation]\n",
            "[2024-01-12 17:22:48,504 : INFO : main : >>>>>> stage Data Validation completed <<<<<<\n",
            "\n",
            "x==========x]\n",
            "[2024-01-12 17:22:48,505 : INFO : main : >>>>>> stage Data Tranformation started <<<<<<]\n",
            "[2024-01-12 17:22:48,509 : INFO : common : yaml file : config/config.yml loaded succefully]\n",
            "[2024-01-12 17:22:48,512 : INFO : common : yaml file : params.yml loaded succefully]\n",
            "[2024-01-12 17:22:48,512 : INFO : common : Created Director at: artifacts]\n",
            "[2024-01-12 17:22:48,513 : INFO : common : Created Director at: artifacts/data_transformation]\n",
            "Saving the dataset (1/1 shards): 100% 14732/14732 [00:00<00:00, 142976.61 examples/s]\n",
            "Saving the dataset (1/1 shards): 100% 819/819 [00:00<00:00, 70546.79 examples/s]\n",
            "Saving the dataset (1/1 shards): 100% 818/818 [00:00<00:00, 72701.74 examples/s]\n",
            "[2024-01-12 17:22:50,229 : INFO : main : >>>>>> stage Data Tranformation completed <<<<<<\n",
            "\n",
            "x==========x]\n",
            "[2024-01-12 17:22:50,229 : INFO : main : >>>>>> stage Model Trainer started <<<<<<]\n",
            "[2024-01-12 17:22:50,234 : INFO : common : yaml file : config/config.yml loaded succefully]\n",
            "[2024-01-12 17:22:50,237 : INFO : common : yaml file : params.yml loaded succefully]\n",
            "[2024-01-12 17:22:50,237 : INFO : common : Created Director at: artifacts]\n",
            "[2024-01-12 17:22:50,238 : INFO : common : Created Director at: artifacts/model_trainer]\n",
            "[2024-01-12 17:22:50,263 : INFO : model_trainer : device : cuda]\n",
            "Some weights of PegasusForConditionalGeneration were not initialized from the model checkpoint at google/pegasus-cnn_dailymail and are newly initialized: ['model.encoder.embed_positions.weight', 'model.decoder.embed_positions.weight']\n",
            "You should probably TRAIN this model on a down-stream task to be able to use it for predictions and inference.\n",
            "[2024-01-12 17:23:06,820 : INFO : model_trainer : Training Started]\n",
            "  0% 0/920 [00:00<?, ?it/s]You're using a PegasusTokenizerFast tokenizer. Please note that with a fast tokenizer, using the `__call__` method is faster than using a method to encode the text followed by a call to the `pad` method to get a padded encoding.\n",
            "{'loss': 3.0231, 'learning_rate': 1.0000000000000002e-06, 'epoch': 0.01}\n",
            "{'loss': 3.0506, 'learning_rate': 2.0000000000000003e-06, 'epoch': 0.02}\n",
            "{'loss': 3.0267, 'learning_rate': 3e-06, 'epoch': 0.03}\n",
            "{'loss': 2.8603, 'learning_rate': 4.000000000000001e-06, 'epoch': 0.04}\n",
            "{'loss': 2.8652, 'learning_rate': 5e-06, 'epoch': 0.05}\n",
            "{'loss': 2.6235, 'learning_rate': 6e-06, 'epoch': 0.07}\n",
            "{'loss': 2.6045, 'learning_rate': 7.000000000000001e-06, 'epoch': 0.08}\n",
            "{'loss': 2.6912, 'learning_rate': 8.000000000000001e-06, 'epoch': 0.09}\n",
            "{'loss': 2.4685, 'learning_rate': 9e-06, 'epoch': 0.1}\n",
            "{'loss': 2.5342, 'learning_rate': 1e-05, 'epoch': 0.11}\n",
            "{'loss': 2.1998, 'learning_rate': 1.1000000000000001e-05, 'epoch': 0.12}\n",
            "{'loss': 2.2319, 'learning_rate': 1.2e-05, 'epoch': 0.13}\n",
            "{'loss': 2.1989, 'learning_rate': 1.3000000000000001e-05, 'epoch': 0.14}\n",
            "{'loss': 2.1099, 'learning_rate': 1.4000000000000001e-05, 'epoch': 0.15}\n",
            "{'loss': 2.1173, 'learning_rate': 1.5e-05, 'epoch': 0.16}\n",
            "{'loss': 2.0991, 'learning_rate': 1.6000000000000003e-05, 'epoch': 0.17}\n",
            "{'loss': 2.0057, 'learning_rate': 1.7000000000000003e-05, 'epoch': 0.18}\n",
            "{'loss': 1.9854, 'learning_rate': 1.8e-05, 'epoch': 0.2}\n",
            "{'loss': 1.9135, 'learning_rate': 1.9e-05, 'epoch': 0.21}\n",
            "{'loss': 2.0285, 'learning_rate': 2e-05, 'epoch': 0.22}\n",
            "{'loss': 1.872, 'learning_rate': 2.1e-05, 'epoch': 0.23}\n",
            "{'loss': 1.968, 'learning_rate': 2.2000000000000003e-05, 'epoch': 0.24}\n",
            "{'loss': 1.8162, 'learning_rate': 2.3000000000000003e-05, 'epoch': 0.25}\n",
            "{'loss': 1.7664, 'learning_rate': 2.4e-05, 'epoch': 0.26}\n",
            "{'loss': 1.8529, 'learning_rate': 2.5e-05, 'epoch': 0.27}\n",
            "{'loss': 1.8843, 'learning_rate': 2.6000000000000002e-05, 'epoch': 0.28}\n",
            "{'loss': 1.8501, 'learning_rate': 2.7000000000000002e-05, 'epoch': 0.29}\n",
            "{'loss': 1.7834, 'learning_rate': 2.8000000000000003e-05, 'epoch': 0.3}\n",
            "{'loss': 1.7361, 'learning_rate': 2.9e-05, 'epoch': 0.31}\n",
            "{'loss': 1.6743, 'learning_rate': 3e-05, 'epoch': 0.33}\n",
            "{'loss': 1.7663, 'learning_rate': 3.1e-05, 'epoch': 0.34}\n",
            "{'loss': 1.7525, 'learning_rate': 3.2000000000000005e-05, 'epoch': 0.35}\n",
            "{'loss': 1.787, 'learning_rate': 3.3e-05, 'epoch': 0.36}\n",
            "{'loss': 1.674, 'learning_rate': 3.4000000000000007e-05, 'epoch': 0.37}\n",
            "{'loss': 1.6514, 'learning_rate': 3.5e-05, 'epoch': 0.38}\n",
            "{'loss': 1.667, 'learning_rate': 3.6e-05, 'epoch': 0.39}\n",
            "{'loss': 1.6854, 'learning_rate': 3.7e-05, 'epoch': 0.4}\n",
            "{'loss': 1.7214, 'learning_rate': 3.8e-05, 'epoch': 0.41}\n",
            "{'loss': 1.7638, 'learning_rate': 3.9000000000000006e-05, 'epoch': 0.42}\n",
            "{'loss': 1.6065, 'learning_rate': 4e-05, 'epoch': 0.43}\n",
            "{'loss': 1.5898, 'learning_rate': 4.1e-05, 'epoch': 0.45}\n",
            "{'loss': 1.6824, 'learning_rate': 4.2e-05, 'epoch': 0.46}\n",
            "{'loss': 1.6551, 'learning_rate': 4.3e-05, 'epoch': 0.47}\n",
            "{'loss': 1.665, 'learning_rate': 4.4000000000000006e-05, 'epoch': 0.48}\n",
            "{'loss': 1.6164, 'learning_rate': 4.5e-05, 'epoch': 0.49}\n",
            "{'loss': 1.6257, 'learning_rate': 4.600000000000001e-05, 'epoch': 0.5}\n",
            "{'loss': 1.6458, 'learning_rate': 4.7e-05, 'epoch': 0.51}\n",
            "{'loss': 1.6082, 'learning_rate': 4.8e-05, 'epoch': 0.52}\n",
            "{'loss': 1.62, 'learning_rate': 4.9e-05, 'epoch': 0.53}\n",
            "{'loss': 1.6265, 'learning_rate': 5e-05, 'epoch': 0.54}\n",
            " 54% 500/920 [23:50<19:56,  2.85s/it]\n",
            "  0% 0/818 [00:00<?, ?it/s]\u001b[A\n",
            "  0% 3/818 [00:00<00:28, 28.34it/s]\u001b[A\n",
            "  1% 6/818 [00:00<00:36, 22.14it/s]\u001b[A\n",
            "  1% 9/818 [00:00<00:32, 24.71it/s]\u001b[A\n",
            "  1% 12/818 [00:00<00:33, 24.34it/s]\u001b[A\n",
            "  2% 15/818 [00:00<00:32, 24.58it/s]\u001b[A\n",
            "  2% 18/818 [00:00<00:34, 23.39it/s]\u001b[A\n",
            "  3% 21/818 [00:00<00:33, 24.02it/s]\u001b[A\n",
            "  3% 25/818 [00:01<00:30, 26.15it/s]\u001b[A\n",
            "  3% 28/818 [00:01<00:32, 24.49it/s]\u001b[A\n",
            "  4% 31/818 [00:01<00:33, 23.33it/s]\u001b[A\n",
            "  4% 34/818 [00:01<00:33, 23.20it/s]\u001b[A\n",
            "  5% 37/818 [00:01<00:33, 23.52it/s]\u001b[A\n",
            "  5% 40/818 [00:01<00:31, 24.92it/s]\u001b[A\n",
            "  5% 43/818 [00:01<00:32, 24.10it/s]\u001b[A\n",
            "  6% 46/818 [00:01<00:31, 24.62it/s]\u001b[A\n",
            "  6% 49/818 [00:02<00:30, 25.22it/s]\u001b[A\n",
            "  6% 52/818 [00:02<00:29, 26.31it/s]\u001b[A\n",
            "  7% 55/818 [00:02<00:28, 26.39it/s]\u001b[A\n",
            "  7% 58/818 [00:02<00:29, 25.81it/s]\u001b[A\n",
            "  7% 61/818 [00:02<00:32, 23.59it/s]\u001b[A\n",
            "  8% 64/818 [00:02<00:32, 23.20it/s]\u001b[A\n",
            "  8% 67/818 [00:02<00:31, 23.82it/s]\u001b[A\n",
            "  9% 70/818 [00:02<00:30, 24.37it/s]\u001b[A\n",
            "  9% 73/818 [00:02<00:29, 25.52it/s]\u001b[A\n",
            "  9% 76/818 [00:03<00:30, 24.58it/s]\u001b[A\n",
            " 10% 79/818 [00:03<00:28, 25.90it/s]\u001b[A\n",
            " 10% 82/818 [00:03<00:31, 23.56it/s]\u001b[A\n",
            " 10% 85/818 [00:03<00:31, 23.50it/s]\u001b[A\n",
            " 11% 88/818 [00:03<00:29, 24.73it/s]\u001b[A\n",
            " 11% 91/818 [00:03<00:28, 25.69it/s]\u001b[A\n",
            " 11% 94/818 [00:03<00:27, 26.68it/s]\u001b[A\n",
            " 12% 97/818 [00:03<00:27, 26.63it/s]\u001b[A\n",
            " 12% 100/818 [00:04<00:27, 25.99it/s]\u001b[A\n",
            " 13% 103/818 [00:04<00:27, 26.40it/s]\u001b[A\n",
            " 13% 106/818 [00:04<00:28, 25.31it/s]\u001b[A\n",
            " 13% 109/818 [00:04<00:32, 21.89it/s]\u001b[A\n",
            " 14% 113/818 [00:04<00:29, 24.13it/s]\u001b[A\n",
            " 14% 116/818 [00:04<00:35, 19.63it/s]\u001b[A\n",
            " 15% 119/818 [00:04<00:35, 19.72it/s]\u001b[A\n",
            " 15% 122/818 [00:05<00:34, 20.37it/s]\u001b[A\n",
            " 15% 125/818 [00:05<00:33, 20.69it/s]\u001b[A\n",
            " 16% 128/818 [00:05<00:35, 19.33it/s]\u001b[A\n",
            " 16% 130/818 [00:05<00:36, 18.69it/s]\u001b[A\n",
            " 16% 132/818 [00:05<00:36, 18.98it/s]\u001b[A\n",
            " 17% 135/818 [00:05<00:34, 19.84it/s]\u001b[A\n",
            " 17% 138/818 [00:05<00:33, 20.38it/s]\u001b[A\n",
            " 17% 141/818 [00:06<00:33, 20.15it/s]\u001b[A\n",
            " 18% 144/818 [00:06<00:32, 20.98it/s]\u001b[A\n",
            " 18% 147/818 [00:06<00:36, 18.49it/s]\u001b[A\n",
            " 18% 150/818 [00:06<00:34, 19.31it/s]\u001b[A\n",
            " 19% 152/818 [00:06<00:34, 19.13it/s]\u001b[A\n",
            " 19% 155/818 [00:06<00:32, 20.21it/s]\u001b[A\n",
            " 19% 158/818 [00:06<00:33, 19.93it/s]\u001b[A\n",
            " 20% 161/818 [00:07<00:34, 18.93it/s]\u001b[A\n",
            " 20% 163/818 [00:07<00:34, 19.06it/s]\u001b[A\n",
            " 20% 166/818 [00:07<00:32, 20.00it/s]\u001b[A\n",
            " 21% 169/818 [00:07<00:31, 20.65it/s]\u001b[A\n",
            " 21% 172/818 [00:07<00:30, 21.10it/s]\u001b[A\n",
            " 21% 175/818 [00:07<00:30, 20.83it/s]\u001b[A\n",
            " 22% 178/818 [00:07<00:30, 21.26it/s]\u001b[A\n",
            " 22% 181/818 [00:08<00:30, 20.86it/s]\u001b[A\n",
            " 22% 184/818 [00:08<00:29, 21.50it/s]\u001b[A\n",
            " 23% 187/818 [00:08<00:31, 20.32it/s]\u001b[A\n",
            " 23% 190/818 [00:08<00:33, 18.78it/s]\u001b[A\n",
            " 24% 193/818 [00:08<00:32, 19.27it/s]\u001b[A\n",
            " 24% 196/818 [00:08<00:31, 19.98it/s]\u001b[A\n",
            " 24% 199/818 [00:08<00:29, 20.66it/s]\u001b[A\n",
            " 25% 202/818 [00:09<00:29, 20.65it/s]\u001b[A\n",
            " 25% 205/818 [00:09<00:31, 19.60it/s]\u001b[A\n",
            " 25% 208/818 [00:09<00:30, 19.73it/s]\u001b[A\n",
            " 26% 210/818 [00:09<00:30, 19.67it/s]\u001b[A\n",
            " 26% 212/818 [00:09<00:34, 17.53it/s]\u001b[A\n",
            " 26% 214/818 [00:09<00:33, 17.92it/s]\u001b[A\n",
            " 27% 217/818 [00:09<00:30, 19.97it/s]\u001b[A\n",
            " 27% 220/818 [00:10<00:31, 18.71it/s]\u001b[A\n",
            " 27% 223/818 [00:10<00:29, 20.30it/s]\u001b[A\n",
            " 28% 226/818 [00:10<00:36, 16.39it/s]\u001b[A\n",
            " 28% 229/818 [00:10<00:31, 18.82it/s]\u001b[A\n",
            " 28% 232/818 [00:10<00:27, 21.10it/s]\u001b[A\n",
            " 29% 235/818 [00:10<00:25, 23.08it/s]\u001b[A\n",
            " 29% 238/818 [00:10<00:25, 22.76it/s]\u001b[A\n",
            " 29% 241/818 [00:11<00:23, 24.21it/s]\u001b[A\n",
            " 30% 244/818 [00:11<00:24, 23.44it/s]\u001b[A\n",
            " 30% 247/818 [00:11<00:26, 21.86it/s]\u001b[A\n",
            " 31% 250/818 [00:11<00:24, 23.56it/s]\u001b[A\n",
            " 31% 253/818 [00:11<00:26, 21.07it/s]\u001b[A\n",
            " 31% 257/818 [00:11<00:23, 23.59it/s]\u001b[A\n",
            " 32% 260/818 [00:11<00:23, 23.94it/s]\u001b[A\n",
            " 32% 264/818 [00:11<00:21, 25.99it/s]\u001b[A\n",
            " 33% 267/818 [00:12<00:22, 24.29it/s]\u001b[A\n",
            " 33% 270/818 [00:12<00:23, 23.80it/s]\u001b[A\n",
            " 33% 273/818 [00:12<00:26, 20.71it/s]\u001b[A\n",
            " 34% 276/818 [00:12<00:24, 21.97it/s]\u001b[A\n",
            " 34% 279/818 [00:12<00:22, 23.52it/s]\u001b[A\n",
            " 34% 282/818 [00:12<00:21, 24.57it/s]\u001b[A\n",
            " 35% 285/818 [00:12<00:21, 24.47it/s]\u001b[A\n",
            " 35% 288/818 [00:13<00:22, 24.08it/s]\u001b[A\n",
            " 36% 291/818 [00:13<00:23, 22.85it/s]\u001b[A\n",
            " 36% 294/818 [00:13<00:23, 22.59it/s]\u001b[A\n",
            " 36% 297/818 [00:13<00:21, 24.32it/s]\u001b[A\n",
            " 37% 300/818 [00:13<00:21, 24.46it/s]\u001b[A\n",
            " 37% 303/818 [00:13<00:21, 24.24it/s]\u001b[A\n",
            " 37% 306/818 [00:13<00:20, 25.18it/s]\u001b[A\n",
            " 38% 309/818 [00:13<00:21, 24.19it/s]\u001b[A\n",
            " 38% 312/818 [00:14<00:22, 22.35it/s]\u001b[A\n",
            " 39% 315/818 [00:14<00:23, 20.99it/s]\u001b[A\n",
            " 39% 318/818 [00:14<00:21, 22.78it/s]\u001b[A\n",
            " 39% 321/818 [00:14<00:22, 21.70it/s]\u001b[A\n",
            " 40% 324/818 [00:14<00:25, 19.69it/s]\u001b[A\n",
            " 40% 327/818 [00:14<00:25, 19.50it/s]\u001b[A\n",
            " 40% 330/818 [00:14<00:22, 21.34it/s]\u001b[A\n",
            " 41% 333/818 [00:15<00:22, 21.88it/s]\u001b[A\n",
            " 41% 336/818 [00:15<00:20, 23.45it/s]\u001b[A\n",
            " 41% 339/818 [00:15<00:20, 23.33it/s]\u001b[A\n",
            " 42% 342/818 [00:15<00:21, 22.03it/s]\u001b[A\n",
            " 42% 345/818 [00:15<00:20, 23.29it/s]\u001b[A\n",
            " 43% 348/818 [00:15<00:18, 24.75it/s]\u001b[A\n",
            " 43% 351/818 [00:15<00:17, 26.11it/s]\u001b[A\n",
            " 43% 354/818 [00:15<00:17, 27.05it/s]\u001b[A\n",
            " 44% 358/818 [00:16<00:16, 27.52it/s]\u001b[A\n",
            " 44% 361/818 [00:16<00:21, 21.58it/s]\u001b[A\n",
            " 44% 364/818 [00:16<00:20, 22.52it/s]\u001b[A\n",
            " 45% 367/818 [00:16<00:19, 23.72it/s]\u001b[A\n",
            " 45% 370/818 [00:16<00:18, 23.97it/s]\u001b[A\n",
            " 46% 373/818 [00:16<00:19, 23.29it/s]\u001b[A\n",
            " 46% 376/818 [00:16<00:18, 24.22it/s]\u001b[A\n",
            " 46% 379/818 [00:16<00:17, 25.54it/s]\u001b[A\n",
            " 47% 382/818 [00:17<00:16, 26.57it/s]\u001b[A\n",
            " 47% 385/818 [00:17<00:17, 25.24it/s]\u001b[A\n",
            " 47% 388/818 [00:17<00:19, 21.50it/s]\u001b[A\n",
            " 48% 391/818 [00:17<00:18, 23.01it/s]\u001b[A\n",
            " 48% 394/818 [00:17<00:18, 23.21it/s]\u001b[A\n",
            " 49% 397/818 [00:17<00:18, 22.60it/s]\u001b[A\n",
            " 49% 400/818 [00:17<00:17, 24.28it/s]\u001b[A\n",
            " 49% 403/818 [00:17<00:16, 25.11it/s]\u001b[A\n",
            " 50% 406/818 [00:18<00:17, 23.47it/s]\u001b[A\n",
            " 50% 409/818 [00:18<00:18, 22.55it/s]\u001b[A\n",
            " 50% 412/818 [00:18<00:19, 21.31it/s]\u001b[A\n",
            " 51% 415/818 [00:18<00:18, 22.12it/s]\u001b[A\n",
            " 51% 418/818 [00:18<00:19, 21.01it/s]\u001b[A\n",
            " 51% 421/818 [00:18<00:17, 22.35it/s]\u001b[A\n",
            " 52% 424/818 [00:18<00:18, 21.72it/s]\u001b[A\n",
            " 52% 427/818 [00:19<00:17, 22.54it/s]\u001b[A\n",
            " 53% 430/818 [00:19<00:16, 23.55it/s]\u001b[A\n",
            " 53% 433/818 [00:19<00:16, 23.88it/s]\u001b[A\n",
            " 53% 436/818 [00:19<00:16, 22.52it/s]\u001b[A\n",
            " 54% 439/818 [00:19<00:15, 24.17it/s]\u001b[A\n",
            " 54% 442/818 [00:19<00:16, 23.40it/s]\u001b[A\n",
            " 54% 445/818 [00:19<00:16, 23.10it/s]\u001b[A\n",
            " 55% 448/818 [00:19<00:17, 21.46it/s]\u001b[A\n",
            " 55% 451/818 [00:20<00:18, 19.89it/s]\u001b[A\n",
            " 56% 454/818 [00:20<00:17, 20.47it/s]\u001b[A\n",
            " 56% 457/818 [00:20<00:21, 17.01it/s]\u001b[A\n",
            " 56% 460/818 [00:20<00:19, 18.26it/s]\u001b[A\n",
            " 56% 462/818 [00:20<00:19, 17.84it/s]\u001b[A\n",
            " 57% 464/818 [00:20<00:20, 17.49it/s]\u001b[A\n",
            " 57% 467/818 [00:21<00:19, 18.15it/s]\u001b[A\n",
            " 57% 470/818 [00:21<00:18, 18.95it/s]\u001b[A\n",
            " 58% 473/818 [00:21<00:17, 19.54it/s]\u001b[A\n",
            " 58% 475/818 [00:21<00:17, 19.27it/s]\u001b[A\n",
            " 58% 478/818 [00:21<00:16, 20.03it/s]\u001b[A\n",
            " 59% 481/818 [00:21<00:17, 19.75it/s]\u001b[A\n",
            " 59% 484/818 [00:21<00:16, 20.03it/s]\u001b[A\n",
            " 60% 487/818 [00:22<00:16, 20.11it/s]\u001b[A\n",
            " 60% 490/818 [00:22<00:16, 20.10it/s]\u001b[A\n",
            " 60% 493/818 [00:22<00:15, 20.57it/s]\u001b[A\n",
            " 61% 496/818 [00:22<00:16, 19.45it/s]\u001b[A\n",
            " 61% 499/818 [00:22<00:15, 20.04it/s]\u001b[A\n",
            " 61% 502/818 [00:22<00:15, 20.80it/s]\u001b[A\n",
            " 62% 505/818 [00:22<00:14, 21.17it/s]\u001b[A\n",
            " 62% 508/818 [00:23<00:14, 20.84it/s]\u001b[A\n",
            " 62% 511/818 [00:23<00:14, 21.03it/s]\u001b[A\n",
            " 63% 514/818 [00:23<00:14, 20.80it/s]\u001b[A\n",
            " 63% 517/818 [00:23<00:14, 21.00it/s]\u001b[A\n",
            " 64% 520/818 [00:23<00:14, 20.33it/s]\u001b[A\n",
            " 64% 523/818 [00:23<00:14, 20.89it/s]\u001b[A\n",
            " 64% 526/818 [00:23<00:14, 20.61it/s]\u001b[A\n",
            " 65% 529/818 [00:24<00:14, 20.57it/s]\u001b[A\n",
            " 65% 532/818 [00:24<00:13, 20.67it/s]\u001b[A\n",
            " 65% 535/818 [00:24<00:13, 20.41it/s]\u001b[A\n",
            " 66% 538/818 [00:24<00:13, 20.03it/s]\u001b[A\n",
            " 66% 541/818 [00:24<00:13, 20.09it/s]\u001b[A\n",
            " 67% 544/818 [00:24<00:12, 21.17it/s]\u001b[A\n",
            " 67% 547/818 [00:24<00:12, 21.87it/s]\u001b[A\n",
            " 67% 550/818 [00:25<00:11, 23.25it/s]\u001b[A\n",
            " 68% 553/818 [00:25<00:11, 22.55it/s]\u001b[A\n",
            " 68% 556/818 [00:25<00:11, 23.26it/s]\u001b[A\n",
            " 68% 559/818 [00:25<00:11, 21.71it/s]\u001b[A\n",
            " 69% 562/818 [00:25<00:13, 18.83it/s]\u001b[A\n",
            " 69% 565/818 [00:25<00:12, 20.04it/s]\u001b[A\n",
            " 69% 568/818 [00:25<00:12, 19.84it/s]\u001b[A\n",
            " 70% 571/818 [00:26<00:11, 21.33it/s]\u001b[A\n",
            " 70% 574/818 [00:26<00:10, 22.88it/s]\u001b[A\n",
            " 71% 577/818 [00:26<00:10, 22.46it/s]\u001b[A\n",
            " 71% 580/818 [00:26<00:09, 23.85it/s]\u001b[A\n",
            " 71% 583/818 [00:26<00:09, 25.01it/s]\u001b[A\n",
            " 72% 586/818 [00:26<00:09, 24.80it/s]\u001b[A\n",
            " 72% 589/818 [00:26<00:09, 25.44it/s]\u001b[A\n",
            " 72% 592/818 [00:26<00:09, 24.69it/s]\u001b[A\n",
            " 73% 595/818 [00:27<00:09, 24.32it/s]\u001b[A\n",
            " 73% 598/818 [00:27<00:09, 24.41it/s]\u001b[A\n",
            " 73% 601/818 [00:27<00:08, 24.26it/s]\u001b[A\n",
            " 74% 604/818 [00:27<00:08, 24.47it/s]\u001b[A\n",
            " 74% 607/818 [00:27<00:08, 25.77it/s]\u001b[A\n",
            " 75% 610/818 [00:27<00:08, 24.68it/s]\u001b[A\n",
            " 75% 613/818 [00:27<00:08, 24.14it/s]\u001b[A\n",
            " 75% 616/818 [00:27<00:08, 24.44it/s]\u001b[A\n",
            " 76% 619/818 [00:28<00:08, 23.56it/s]\u001b[A\n",
            " 76% 622/818 [00:28<00:09, 20.31it/s]\u001b[A\n",
            " 76% 625/818 [00:28<00:08, 22.32it/s]\u001b[A\n",
            " 77% 628/818 [00:28<00:07, 23.84it/s]\u001b[A\n",
            " 77% 631/818 [00:28<00:08, 21.10it/s]\u001b[A\n",
            " 78% 634/818 [00:28<00:08, 22.41it/s]\u001b[A\n",
            " 78% 637/818 [00:28<00:07, 24.23it/s]\u001b[A\n",
            " 78% 640/818 [00:28<00:06, 25.57it/s]\u001b[A\n",
            " 79% 643/818 [00:29<00:06, 25.77it/s]\u001b[A\n",
            " 79% 646/818 [00:29<00:07, 21.58it/s]\u001b[A\n",
            " 79% 649/818 [00:29<00:07, 21.94it/s]\u001b[A\n",
            " 80% 652/818 [00:29<00:07, 23.10it/s]\u001b[A\n",
            " 80% 655/818 [00:29<00:07, 21.55it/s]\u001b[A\n",
            " 80% 658/818 [00:29<00:07, 22.45it/s]\u001b[A\n",
            " 81% 661/818 [00:29<00:06, 22.53it/s]\u001b[A\n",
            " 81% 664/818 [00:30<00:06, 22.95it/s]\u001b[A\n",
            " 82% 667/818 [00:30<00:06, 22.19it/s]\u001b[A\n",
            " 82% 670/818 [00:30<00:07, 21.09it/s]\u001b[A\n",
            " 82% 673/818 [00:30<00:07, 20.35it/s]\u001b[A\n",
            " 83% 676/818 [00:30<00:07, 19.43it/s]\u001b[A\n",
            " 83% 679/818 [00:30<00:06, 20.88it/s]\u001b[A\n",
            " 83% 682/818 [00:30<00:06, 22.17it/s]\u001b[A\n",
            " 84% 685/818 [00:31<00:06, 21.48it/s]\u001b[A\n",
            " 84% 688/818 [00:31<00:05, 22.23it/s]\u001b[A\n",
            " 84% 691/818 [00:31<00:05, 23.36it/s]\u001b[A\n",
            " 85% 694/818 [00:31<00:05, 23.67it/s]\u001b[A\n",
            " 85% 697/818 [00:31<00:05, 20.33it/s]\u001b[A\n",
            " 86% 700/818 [00:31<00:05, 21.46it/s]\u001b[A\n",
            " 86% 703/818 [00:31<00:05, 20.94it/s]\u001b[A\n",
            " 86% 706/818 [00:32<00:05, 21.14it/s]\u001b[A\n",
            " 87% 709/818 [00:32<00:04, 22.29it/s]\u001b[A\n",
            " 87% 712/818 [00:32<00:04, 21.86it/s]\u001b[A\n",
            " 87% 715/818 [00:32<00:04, 22.26it/s]\u001b[A\n",
            " 88% 718/818 [00:32<00:04, 23.84it/s]\u001b[A\n",
            " 88% 721/818 [00:32<00:03, 24.45it/s]\u001b[A\n",
            " 89% 724/818 [00:32<00:04, 22.43it/s]\u001b[A\n",
            " 89% 727/818 [00:32<00:04, 21.19it/s]\u001b[A\n",
            " 89% 730/818 [00:33<00:03, 22.55it/s]\u001b[A\n",
            " 90% 733/818 [00:33<00:03, 24.25it/s]\u001b[A\n",
            " 90% 736/818 [00:33<00:04, 18.28it/s]\u001b[A\n",
            " 90% 739/818 [00:33<00:04, 19.09it/s]\u001b[A\n",
            " 91% 742/818 [00:33<00:03, 19.93it/s]\u001b[A\n",
            " 91% 745/818 [00:33<00:03, 22.10it/s]\u001b[A\n",
            " 91% 748/818 [00:33<00:03, 22.60it/s]\u001b[A\n",
            " 92% 751/818 [00:34<00:02, 23.52it/s]\u001b[A\n",
            " 92% 754/818 [00:34<00:02, 22.09it/s]\u001b[A\n",
            " 93% 757/818 [00:34<00:02, 23.28it/s]\u001b[A\n",
            " 93% 760/818 [00:34<00:02, 24.46it/s]\u001b[A\n",
            " 93% 763/818 [00:34<00:02, 24.20it/s]\u001b[A\n",
            " 94% 766/818 [00:34<00:02, 19.76it/s]\u001b[A\n",
            " 94% 769/818 [00:34<00:02, 18.52it/s]\u001b[A\n",
            " 94% 772/818 [00:35<00:02, 19.13it/s]\u001b[A\n",
            " 95% 775/818 [00:35<00:02, 19.97it/s]\u001b[A\n",
            " 95% 778/818 [00:35<00:01, 20.14it/s]\u001b[A\n",
            " 95% 781/818 [00:35<00:01, 20.92it/s]\u001b[A\n",
            " 96% 784/818 [00:35<00:01, 19.34it/s]\u001b[A\n",
            " 96% 787/818 [00:35<00:01, 20.22it/s]\u001b[A\n",
            " 97% 790/818 [00:35<00:01, 20.02it/s]\u001b[A\n",
            " 97% 793/818 [00:36<00:01, 21.14it/s]\u001b[A\n",
            " 97% 796/818 [00:36<00:01, 21.34it/s]\u001b[A\n",
            " 98% 799/818 [00:36<00:01, 18.11it/s]\u001b[A\n",
            " 98% 802/818 [00:36<00:00, 18.92it/s]\u001b[A\n",
            " 98% 805/818 [00:36<00:00, 19.55it/s]\u001b[A\n",
            " 99% 808/818 [00:36<00:00, 19.67it/s]\u001b[A\n",
            " 99% 811/818 [00:37<00:00, 19.47it/s]\u001b[A\n",
            "100% 814/818 [00:37<00:00, 20.17it/s]\u001b[A\n",
            "                                     \n",
            "\u001b[A{'eval_loss': 1.484255313873291, 'eval_runtime': 37.5247, 'eval_samples_per_second': 21.799, 'eval_steps_per_second': 21.799, 'epoch': 0.54}\n",
            " 54% 500/920 [24:28<19:56,  2.85s/it]\n",
            "100% 818/818 [00:37<00:00, 16.59it/s]\u001b[A\n",
            "{'loss': 1.5986, 'learning_rate': 4.880952380952381e-05, 'epoch': 0.55}\n",
            "{'loss': 1.6908, 'learning_rate': 4.761904761904762e-05, 'epoch': 0.56}\n",
            "{'loss': 1.6855, 'learning_rate': 4.642857142857143e-05, 'epoch': 0.58}\n",
            "{'loss': 1.6271, 'learning_rate': 4.523809523809524e-05, 'epoch': 0.59}\n",
            "{'loss': 1.6311, 'learning_rate': 4.404761904761905e-05, 'epoch': 0.6}\n",
            "{'loss': 1.6588, 'learning_rate': 4.2857142857142856e-05, 'epoch': 0.61}\n",
            "{'loss': 1.6174, 'learning_rate': 4.166666666666667e-05, 'epoch': 0.62}\n",
            "{'loss': 1.6986, 'learning_rate': 4.047619047619048e-05, 'epoch': 0.63}\n",
            "{'loss': 1.6051, 'learning_rate': 3.928571428571429e-05, 'epoch': 0.64}\n",
            "{'loss': 1.6587, 'learning_rate': 3.809523809523809e-05, 'epoch': 0.65}\n",
            "{'loss': 1.5991, 'learning_rate': 3.690476190476191e-05, 'epoch': 0.66}\n",
            "{'loss': 1.6682, 'learning_rate': 3.571428571428572e-05, 'epoch': 0.67}\n",
            "{'loss': 1.6545, 'learning_rate': 3.4523809523809526e-05, 'epoch': 0.68}\n",
            "{'loss': 1.5751, 'learning_rate': 3.3333333333333335e-05, 'epoch': 0.7}\n",
            "{'loss': 1.5622, 'learning_rate': 3.2142857142857144e-05, 'epoch': 0.71}\n",
            "{'loss': 1.6601, 'learning_rate': 3.095238095238095e-05, 'epoch': 0.72}\n",
            "{'loss': 1.6695, 'learning_rate': 2.9761904761904762e-05, 'epoch': 0.73}\n",
            "{'loss': 1.5092, 'learning_rate': 2.857142857142857e-05, 'epoch': 0.74}\n",
            "{'loss': 1.6143, 'learning_rate': 2.7380952380952383e-05, 'epoch': 0.75}\n",
            "{'loss': 1.5894, 'learning_rate': 2.6190476190476192e-05, 'epoch': 0.76}\n",
            "{'loss': 1.6493, 'learning_rate': 2.5e-05, 'epoch': 0.77}\n",
            "{'loss': 1.6293, 'learning_rate': 2.380952380952381e-05, 'epoch': 0.78}\n",
            "{'loss': 1.5068, 'learning_rate': 2.261904761904762e-05, 'epoch': 0.79}\n",
            "{'loss': 1.551, 'learning_rate': 2.1428571428571428e-05, 'epoch': 0.8}\n",
            "{'loss': 1.535, 'learning_rate': 2.023809523809524e-05, 'epoch': 0.81}\n",
            "{'loss': 1.6484, 'learning_rate': 1.9047619047619046e-05, 'epoch': 0.83}\n",
            "{'loss': 1.5788, 'learning_rate': 1.785714285714286e-05, 'epoch': 0.84}\n",
            "{'loss': 1.6534, 'learning_rate': 1.6666666666666667e-05, 'epoch': 0.85}\n",
            "{'loss': 1.6006, 'learning_rate': 1.5476190476190476e-05, 'epoch': 0.86}\n",
            "{'loss': 1.574, 'learning_rate': 1.4285714285714285e-05, 'epoch': 0.87}\n",
            "{'loss': 1.656, 'learning_rate': 1.3095238095238096e-05, 'epoch': 0.88}\n",
            "{'loss': 1.6061, 'learning_rate': 1.1904761904761905e-05, 'epoch': 0.89}\n",
            "{'loss': 1.5356, 'learning_rate': 1.0714285714285714e-05, 'epoch': 0.9}\n",
            "{'loss': 1.5768, 'learning_rate': 9.523809523809523e-06, 'epoch': 0.91}\n",
            "{'loss': 1.5478, 'learning_rate': 8.333333333333334e-06, 'epoch': 0.92}\n",
            "{'loss': 1.6654, 'learning_rate': 7.142857142857143e-06, 'epoch': 0.93}\n",
            "{'loss': 1.5309, 'learning_rate': 5.9523809523809525e-06, 'epoch': 0.94}\n",
            "{'loss': 1.6068, 'learning_rate': 4.7619047619047615e-06, 'epoch': 0.96}\n",
            "{'loss': 1.5326, 'learning_rate': 3.5714285714285714e-06, 'epoch': 0.97}\n",
            "{'loss': 1.6208, 'learning_rate': 2.3809523809523808e-06, 'epoch': 0.98}\n",
            "{'loss': 1.607, 'learning_rate': 1.1904761904761904e-06, 'epoch': 0.99}\n",
            "{'loss': 1.5551, 'learning_rate': 0.0, 'epoch': 1.0}\n",
            "{'train_runtime': 2665.8262, 'train_samples_per_second': 5.526, 'train_steps_per_second': 0.345, 'train_loss': 1.8238315105438232, 'epoch': 1.0}\n",
            "100% 920/920 [44:25<00:00,  2.90s/it]\n",
            "[2024-01-12 18:07:32,932 : INFO : model_trainer : Training Done]\n",
            "[2024-01-12 18:07:45,070 : INFO : main : >>>>>> stage Model Trainer completed <<<<<<\n",
            "\n",
            "x==========x]\n"
          ]
        }
      ]
    },
    {
      "cell_type": "code",
      "source": [
        "from transformers import AutoTokenizer, AutoModel"
      ],
      "metadata": {
        "id": "NYNEkqaFq7eq"
      },
      "execution_count": 11,
      "outputs": []
    },
    {
      "cell_type": "code",
      "source": [
        "tokenizer = AutoTokenizer.from_pretrained('artifacts/model_trainer/tokenizer')"
      ],
      "metadata": {
        "id": "9EI9pZmr79AR"
      },
      "execution_count": 12,
      "outputs": []
    },
    {
      "cell_type": "code",
      "source": [
        "from transformers import AutoModelForSeq2SeqLM\n",
        "from datasets import load_dataset, load_from_disk, load_metric"
      ],
      "metadata": {
        "id": "nKxR6uv688Wy"
      },
      "execution_count": 13,
      "outputs": []
    },
    {
      "cell_type": "code",
      "source": [
        "model = AutoModelForSeq2SeqLM.from_pretrained('artifacts/model_trainer/model').to('cuda')"
      ],
      "metadata": {
        "id": "X2H8HrUO8GR6"
      },
      "execution_count": 14,
      "outputs": []
    },
    {
      "cell_type": "code",
      "source": [
        "!pip install rouge_score"
      ],
      "metadata": {
        "colab": {
          "base_uri": "https://localhost:8080/"
        },
        "id": "l801tTMs9rjy",
        "outputId": "dd16408c-9822-47fc-ed7a-218bcc14eb19"
      },
      "execution_count": 15,
      "outputs": [
        {
          "output_type": "stream",
          "name": "stdout",
          "text": [
            "Collecting rouge_score\n",
            "  Downloading rouge_score-0.1.2.tar.gz (17 kB)\n",
            "  Preparing metadata (setup.py) ... \u001b[?25l\u001b[?25hdone\n",
            "Requirement already satisfied: absl-py in /usr/local/lib/python3.10/dist-packages (from rouge_score) (1.4.0)\n",
            "Requirement already satisfied: nltk in /usr/local/lib/python3.10/dist-packages (from rouge_score) (3.8.1)\n",
            "Requirement already satisfied: numpy in /usr/local/lib/python3.10/dist-packages (from rouge_score) (1.23.5)\n",
            "Requirement already satisfied: six>=1.14.0 in /usr/local/lib/python3.10/dist-packages (from rouge_score) (1.16.0)\n",
            "Requirement already satisfied: click in /usr/local/lib/python3.10/dist-packages (from nltk->rouge_score) (8.1.7)\n",
            "Requirement already satisfied: joblib in /usr/local/lib/python3.10/dist-packages (from nltk->rouge_score) (1.3.2)\n",
            "Requirement already satisfied: regex>=2021.8.3 in /usr/local/lib/python3.10/dist-packages (from nltk->rouge_score) (2023.6.3)\n",
            "Requirement already satisfied: tqdm in /usr/local/lib/python3.10/dist-packages (from nltk->rouge_score) (4.66.1)\n",
            "Building wheels for collected packages: rouge_score\n",
            "  Building wheel for rouge_score (setup.py) ... \u001b[?25l\u001b[?25hdone\n",
            "  Created wheel for rouge_score: filename=rouge_score-0.1.2-py3-none-any.whl size=24933 sha256=48d3757a697514df91bb40455d84e864521dbfb9cb82441f841ab7c162dbb164\n",
            "  Stored in directory: /root/.cache/pip/wheels/5f/dd/89/461065a73be61a532ff8599a28e9beef17985c9e9c31e541b4\n",
            "Successfully built rouge_score\n",
            "Installing collected packages: rouge_score\n",
            "Successfully installed rouge_score-0.1.2\n"
          ]
        }
      ]
    },
    {
      "cell_type": "code",
      "source": [
        "dataset_samsum_pt = load_from_disk('artifacts/data_transformation/samsum_dataset/test')\n",
        "\n",
        "rouge_names = [\"rouge1\", \"rouge2\", \"rougeL\", \"rougeLsum\"]\n",
        "\n",
        "rouge_metric = load_metric('rouge')"
      ],
      "metadata": {
        "colab": {
          "base_uri": "https://localhost:8080/",
          "height": 173,
          "referenced_widgets": [
            "f30e8a1f9bfc46afa45064f207ea17e3",
            "c5da28be21c0495693ec5b903be37f3e",
            "c6ab96ce3050470688dcd7305720922c",
            "d8286e5394e84ff19e95e6ff75aa70d0",
            "d8b05530374a4df4a7aaa175f8f9c6ec",
            "2bea16d964eb48d4a01aeaf136a35416",
            "8f61ea71623e4d3ea32c8a5239288f84",
            "c75559208d4d4c5d9c9bef1e93187b01",
            "1342dc05509a45f7925b89b860db4c5e",
            "60bd9742010147b290ac0e0489290f12",
            "dfef3adcc3a04769baf1b2c340aa5ac9"
          ]
        },
        "id": "63P2_4eC8O-4",
        "outputId": "e2159dd7-8754-4002-c85d-7f1a71b786f4"
      },
      "execution_count": 16,
      "outputs": [
        {
          "output_type": "stream",
          "name": "stderr",
          "text": [
            "<ipython-input-16-c829635eaeeb>:5: FutureWarning: load_metric is deprecated and will be removed in the next major version of datasets. Use 'evaluate.load' instead, from the new library 🤗 Evaluate: https://huggingface.co/docs/evaluate\n",
            "  rouge_metric = load_metric('rouge')\n",
            "/usr/local/lib/python3.10/dist-packages/datasets/load.py:752: FutureWarning: The repository for rouge contains custom code which must be executed to correctly load the metric. You can inspect the repository content at https://raw.githubusercontent.com/huggingface/datasets/2.16.1/metrics/rouge/rouge.py\n",
            "You can avoid this message in future by passing the argument `trust_remote_code=True`.\n",
            "Passing `trust_remote_code=True` will be mandatory to load this metric from the next major release of `datasets`.\n",
            "  warnings.warn(\n"
          ]
        },
        {
          "output_type": "display_data",
          "data": {
            "text/plain": [
              "Downloading builder script:   0%|          | 0.00/2.17k [00:00<?, ?B/s]"
            ],
            "application/vnd.jupyter.widget-view+json": {
              "version_major": 2,
              "version_minor": 0,
              "model_id": "f30e8a1f9bfc46afa45064f207ea17e3"
            }
          },
          "metadata": {}
        }
      ]
    },
    {
      "cell_type": "code",
      "source": [
        "# Evaluation\n",
        "device = 'cuda'\n",
        "def generate_batch_sized_chunks(list_of_elements, batch_size):\n",
        "    \"\"\"split the dataset into smaller batches that we can process simultaneously\n",
        "    Yield successive batch-sized chunks from list_of_elements.\"\"\"\n",
        "    for i in range(0, len(list_of_elements), batch_size):\n",
        "        yield list_of_elements[i : i + batch_size]\n",
        "\n",
        "\n",
        "\n",
        "def calculate_metric_on_test_ds(dataset, metric, model, tokenizer,\n",
        "                               batch_size=16, device=device,\n",
        "                               column_text=\"article\",\n",
        "                               column_summary=\"highlights\"):\n",
        "    article_batches = list(generate_batch_sized_chunks(dataset[column_text], batch_size))\n",
        "    target_batches = list(generate_batch_sized_chunks(dataset[column_summary], batch_size))\n",
        "\n",
        "    for article_batch, target_batch in tqdm(\n",
        "        zip(article_batches, target_batches), total=len(article_batches)):\n",
        "\n",
        "        inputs = tokenizer(article_batch, max_length=1024,  truncation=True,\n",
        "                        padding=\"max_length\", return_tensors=\"pt\")\n",
        "\n",
        "        summaries = model.generate(input_ids=inputs[\"input_ids\"].to(device),\n",
        "                         attention_mask=inputs[\"attention_mask\"].to(device),\n",
        "                         length_penalty=0.8, num_beams=8, max_length=128)\n",
        "        ''' parameter for length penalty ensures that the model does not generate sequences that are too long. '''\n",
        "\n",
        "        # Finally, we decode the generated texts,\n",
        "        # replace the  token, and add the decoded texts with the references to the metric.\n",
        "        decoded_summaries = [tokenizer.decode(s, skip_special_tokens=True,\n",
        "                                clean_up_tokenization_spaces=True)\n",
        "               for s in summaries]\n",
        "\n",
        "        decoded_summaries = [d.replace(\"\", \" \") for d in decoded_summaries]\n",
        "\n",
        "\n",
        "        metric.add_batch(predictions=decoded_summaries, references=target_batch)\n",
        "\n",
        "    #  Finally compute and return the ROUGE scores.\n",
        "    score = metric.compute()\n",
        "    return score"
      ],
      "metadata": {
        "id": "JKk5gQUk8hSl"
      },
      "execution_count": 18,
      "outputs": []
    },
    {
      "cell_type": "code",
      "source": [
        "from tqdm import tqdm\n",
        "import pandas as pd"
      ],
      "metadata": {
        "id": "AcSuFUuxTHpX"
      },
      "execution_count": 20,
      "outputs": []
    },
    {
      "cell_type": "code",
      "source": [
        "score = calculate_metric_on_test_ds(\n",
        "    dataset_samsum_pt[0:10], rouge_metric, model, tokenizer, batch_size = 2, column_text = 'dialogue', column_summary= 'summary'\n",
        ")\n"
      ],
      "metadata": {
        "colab": {
          "base_uri": "https://localhost:8080/"
        },
        "id": "m5HRDRMoSlyh",
        "outputId": "812e2a56-58d8-4139-b7ea-64175f5d8b0b"
      },
      "execution_count": 21,
      "outputs": [
        {
          "output_type": "stream",
          "name": "stderr",
          "text": [
            "100%|██████████| 5/5 [00:11<00:00,  2.32s/it]\n"
          ]
        }
      ]
    },
    {
      "cell_type": "code",
      "source": [
        "rouge_dict = dict((rn, score[rn].mid.fmeasure ) for rn in rouge_names )\n",
        "\n",
        "pd.DataFrame(rouge_dict, index = [f'pegasus'] )"
      ],
      "metadata": {
        "colab": {
          "base_uri": "https://localhost:8080/",
          "height": 81
        },
        "id": "50-WoqgOS6lX",
        "outputId": "a322dd44-3287-4472-fcec-8276cf11c24c"
      },
      "execution_count": 22,
      "outputs": [
        {
          "output_type": "execute_result",
          "data": {
            "text/plain": [
              "           rouge1  rouge2    rougeL  rougeLsum\n",
              "pegasus  0.022834     0.0  0.022455   0.022312"
            ],
            "text/html": [
              "\n",
              "  <div id=\"df-0cf2ddd3-1569-4d4e-801c-4349832ada42\" class=\"colab-df-container\">\n",
              "    <div>\n",
              "<style scoped>\n",
              "    .dataframe tbody tr th:only-of-type {\n",
              "        vertical-align: middle;\n",
              "    }\n",
              "\n",
              "    .dataframe tbody tr th {\n",
              "        vertical-align: top;\n",
              "    }\n",
              "\n",
              "    .dataframe thead th {\n",
              "        text-align: right;\n",
              "    }\n",
              "</style>\n",
              "<table border=\"1\" class=\"dataframe\">\n",
              "  <thead>\n",
              "    <tr style=\"text-align: right;\">\n",
              "      <th></th>\n",
              "      <th>rouge1</th>\n",
              "      <th>rouge2</th>\n",
              "      <th>rougeL</th>\n",
              "      <th>rougeLsum</th>\n",
              "    </tr>\n",
              "  </thead>\n",
              "  <tbody>\n",
              "    <tr>\n",
              "      <th>pegasus</th>\n",
              "      <td>0.022834</td>\n",
              "      <td>0.0</td>\n",
              "      <td>0.022455</td>\n",
              "      <td>0.022312</td>\n",
              "    </tr>\n",
              "  </tbody>\n",
              "</table>\n",
              "</div>\n",
              "    <div class=\"colab-df-buttons\">\n",
              "\n",
              "  <div class=\"colab-df-container\">\n",
              "    <button class=\"colab-df-convert\" onclick=\"convertToInteractive('df-0cf2ddd3-1569-4d4e-801c-4349832ada42')\"\n",
              "            title=\"Convert this dataframe to an interactive table.\"\n",
              "            style=\"display:none;\">\n",
              "\n",
              "  <svg xmlns=\"http://www.w3.org/2000/svg\" height=\"24px\" viewBox=\"0 -960 960 960\">\n",
              "    <path d=\"M120-120v-720h720v720H120Zm60-500h600v-160H180v160Zm220 220h160v-160H400v160Zm0 220h160v-160H400v160ZM180-400h160v-160H180v160Zm440 0h160v-160H620v160ZM180-180h160v-160H180v160Zm440 0h160v-160H620v160Z\"/>\n",
              "  </svg>\n",
              "    </button>\n",
              "\n",
              "  <style>\n",
              "    .colab-df-container {\n",
              "      display:flex;\n",
              "      gap: 12px;\n",
              "    }\n",
              "\n",
              "    .colab-df-convert {\n",
              "      background-color: #E8F0FE;\n",
              "      border: none;\n",
              "      border-radius: 50%;\n",
              "      cursor: pointer;\n",
              "      display: none;\n",
              "      fill: #1967D2;\n",
              "      height: 32px;\n",
              "      padding: 0 0 0 0;\n",
              "      width: 32px;\n",
              "    }\n",
              "\n",
              "    .colab-df-convert:hover {\n",
              "      background-color: #E2EBFA;\n",
              "      box-shadow: 0px 1px 2px rgba(60, 64, 67, 0.3), 0px 1px 3px 1px rgba(60, 64, 67, 0.15);\n",
              "      fill: #174EA6;\n",
              "    }\n",
              "\n",
              "    .colab-df-buttons div {\n",
              "      margin-bottom: 4px;\n",
              "    }\n",
              "\n",
              "    [theme=dark] .colab-df-convert {\n",
              "      background-color: #3B4455;\n",
              "      fill: #D2E3FC;\n",
              "    }\n",
              "\n",
              "    [theme=dark] .colab-df-convert:hover {\n",
              "      background-color: #434B5C;\n",
              "      box-shadow: 0px 1px 3px 1px rgba(0, 0, 0, 0.15);\n",
              "      filter: drop-shadow(0px 1px 2px rgba(0, 0, 0, 0.3));\n",
              "      fill: #FFFFFF;\n",
              "    }\n",
              "  </style>\n",
              "\n",
              "    <script>\n",
              "      const buttonEl =\n",
              "        document.querySelector('#df-0cf2ddd3-1569-4d4e-801c-4349832ada42 button.colab-df-convert');\n",
              "      buttonEl.style.display =\n",
              "        google.colab.kernel.accessAllowed ? 'block' : 'none';\n",
              "\n",
              "      async function convertToInteractive(key) {\n",
              "        const element = document.querySelector('#df-0cf2ddd3-1569-4d4e-801c-4349832ada42');\n",
              "        const dataTable =\n",
              "          await google.colab.kernel.invokeFunction('convertToInteractive',\n",
              "                                                    [key], {});\n",
              "        if (!dataTable) return;\n",
              "\n",
              "        const docLinkHtml = 'Like what you see? Visit the ' +\n",
              "          '<a target=\"_blank\" href=https://colab.research.google.com/notebooks/data_table.ipynb>data table notebook</a>'\n",
              "          + ' to learn more about interactive tables.';\n",
              "        element.innerHTML = '';\n",
              "        dataTable['output_type'] = 'display_data';\n",
              "        await google.colab.output.renderOutput(dataTable, element);\n",
              "        const docLink = document.createElement('div');\n",
              "        docLink.innerHTML = docLinkHtml;\n",
              "        element.appendChild(docLink);\n",
              "      }\n",
              "    </script>\n",
              "  </div>\n",
              "\n",
              "\n",
              "    </div>\n",
              "  </div>\n"
            ]
          },
          "metadata": {},
          "execution_count": 22
        }
      ]
    },
    {
      "cell_type": "code",
      "source": [
        "dialogue = \"\"\"\n",
        "Alex: I wanna paly video game!\n",
        "Mom: I wont Let you!! Go study First!\n",
        "Alex: But studying is for people who arent intelligent enough.\n",
        "Mom: Exactly, That is why you need to study.\n",
        "\"\"\""
      ],
      "metadata": {
        "id": "sek8Ulz1TVtc"
      },
      "execution_count": 23,
      "outputs": []
    },
    {
      "cell_type": "code",
      "source": [
        "tokens = tokenizer(dialogue, return_tensors=\"pt\", max_length=1024, truncation=True).to('cuda')\n",
        "print(tokens)"
      ],
      "metadata": {
        "colab": {
          "base_uri": "https://localhost:8080/"
        },
        "id": "h0PqiMNoVDd2",
        "outputId": "8ad36cf2-ebf4-45f3-9571-9419ad3d879d"
      },
      "execution_count": 35,
      "outputs": [
        {
          "output_type": "stream",
          "name": "stdout",
          "text": [
            "{'input_ids': tensor([[ 5296,   151,   125, 14243, 12955,   445,   545,   389,   147,  7069,\n",
            "           151,   125, 14797,  1593,   119,  1242,  1859,   692,  1485,   147,\n",
            "          5296,   151,   343,  4060,   117,   118,   200,   170,  1675,   144,\n",
            "          6756,   505,   107,  7069,   151, 26229,   108,   485,   117,   447,\n",
            "           119,   217,   112,   692,   107,     1]], device='cuda:0'), 'attention_mask': tensor([[1, 1, 1, 1, 1, 1, 1, 1, 1, 1, 1, 1, 1, 1, 1, 1, 1, 1, 1, 1, 1, 1, 1, 1,\n",
            "         1, 1, 1, 1, 1, 1, 1, 1, 1, 1, 1, 1, 1, 1, 1, 1, 1, 1, 1, 1, 1, 1]],\n",
            "       device='cuda:0')}\n"
          ]
        }
      ]
    },
    {
      "cell_type": "code",
      "source": [
        "summary_ids = model.generate(tokens[\"input_ids\"], max_length=50, num_beams=8, length_penalty=2.0, early_stopping=True)\n",
        "output = tokenizer.decode(summary_ids[0], skip_special_tokens=True)\n",
        "print(output)"
      ],
      "metadata": {
        "colab": {
          "base_uri": "https://localhost:8080/"
        },
        "id": "i5FioEnnVJQC",
        "outputId": "7247b20f-109d-4f71-965b-9881cef37cf8"
      },
      "execution_count": 37,
      "outputs": [
        {
          "output_type": "stream",
          "name": "stdout",
          "text": [
            "Alex wants to play video game. Mom won't let him play it. He needs to study first, because he's not intelligent enough to play it.\n"
          ]
        }
      ]
    },
    {
      "cell_type": "code",
      "source": [],
      "metadata": {
        "id": "4EW7BKMhVONb"
      },
      "execution_count": null,
      "outputs": []
    }
  ]
}